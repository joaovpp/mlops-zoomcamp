{
 "cells": [
  {
   "cell_type": "code",
   "execution_count": 1,
   "id": "cd4ba66e",
   "metadata": {},
   "outputs": [],
   "source": [
    "import pandas as pd\n",
    "\n",
    "from sklearn.feature_extraction import DictVectorizer\n",
    "from sklearn.linear_model import LinearRegression\n",
    "from sklearn.metrics import mean_squared_error\n",
    "\n",
    "import seaborn as sns\n",
    "import matplotlib.pyplot as plt\n",
    "\n",
    "import warnings\n",
    "warnings.filterwarnings('ignore')"
   ]
  },
  {
   "cell_type": "markdown",
   "id": "ae3ee897",
   "metadata": {},
   "source": [
    "# Data Import and Overview"
   ]
  },
  {
   "cell_type": "code",
   "execution_count": 2,
   "id": "0de75206",
   "metadata": {},
   "outputs": [],
   "source": [
    "df = pd.read_parquet('yellow_tripdata_2025-01.parquet')"
   ]
  },
  {
   "cell_type": "code",
   "execution_count": 3,
   "id": "aa8a7934",
   "metadata": {},
   "outputs": [
    {
     "data": {
      "text/html": [
       "<div>\n",
       "<style scoped>\n",
       "    .dataframe tbody tr th:only-of-type {\n",
       "        vertical-align: middle;\n",
       "    }\n",
       "\n",
       "    .dataframe tbody tr th {\n",
       "        vertical-align: top;\n",
       "    }\n",
       "\n",
       "    .dataframe thead th {\n",
       "        text-align: right;\n",
       "    }\n",
       "</style>\n",
       "<table border=\"1\" class=\"dataframe\">\n",
       "  <thead>\n",
       "    <tr style=\"text-align: right;\">\n",
       "      <th></th>\n",
       "      <th>VendorID</th>\n",
       "      <th>tpep_pickup_datetime</th>\n",
       "      <th>tpep_dropoff_datetime</th>\n",
       "      <th>passenger_count</th>\n",
       "      <th>trip_distance</th>\n",
       "      <th>RatecodeID</th>\n",
       "      <th>store_and_fwd_flag</th>\n",
       "      <th>PULocationID</th>\n",
       "      <th>DOLocationID</th>\n",
       "      <th>payment_type</th>\n",
       "      <th>fare_amount</th>\n",
       "      <th>extra</th>\n",
       "      <th>mta_tax</th>\n",
       "      <th>tip_amount</th>\n",
       "      <th>tolls_amount</th>\n",
       "      <th>improvement_surcharge</th>\n",
       "      <th>total_amount</th>\n",
       "      <th>congestion_surcharge</th>\n",
       "      <th>Airport_fee</th>\n",
       "      <th>cbd_congestion_fee</th>\n",
       "    </tr>\n",
       "  </thead>\n",
       "  <tbody>\n",
       "    <tr>\n",
       "      <th>0</th>\n",
       "      <td>1</td>\n",
       "      <td>2025-01-01 00:18:38</td>\n",
       "      <td>2025-01-01 00:26:59</td>\n",
       "      <td>1.0</td>\n",
       "      <td>1.60</td>\n",
       "      <td>1.0</td>\n",
       "      <td>N</td>\n",
       "      <td>229</td>\n",
       "      <td>237</td>\n",
       "      <td>1</td>\n",
       "      <td>10.0</td>\n",
       "      <td>3.5</td>\n",
       "      <td>0.5</td>\n",
       "      <td>3.00</td>\n",
       "      <td>0.0</td>\n",
       "      <td>1.0</td>\n",
       "      <td>18.00</td>\n",
       "      <td>2.5</td>\n",
       "      <td>0.0</td>\n",
       "      <td>0.0</td>\n",
       "    </tr>\n",
       "    <tr>\n",
       "      <th>1</th>\n",
       "      <td>1</td>\n",
       "      <td>2025-01-01 00:32:40</td>\n",
       "      <td>2025-01-01 00:35:13</td>\n",
       "      <td>1.0</td>\n",
       "      <td>0.50</td>\n",
       "      <td>1.0</td>\n",
       "      <td>N</td>\n",
       "      <td>236</td>\n",
       "      <td>237</td>\n",
       "      <td>1</td>\n",
       "      <td>5.1</td>\n",
       "      <td>3.5</td>\n",
       "      <td>0.5</td>\n",
       "      <td>2.02</td>\n",
       "      <td>0.0</td>\n",
       "      <td>1.0</td>\n",
       "      <td>12.12</td>\n",
       "      <td>2.5</td>\n",
       "      <td>0.0</td>\n",
       "      <td>0.0</td>\n",
       "    </tr>\n",
       "    <tr>\n",
       "      <th>2</th>\n",
       "      <td>1</td>\n",
       "      <td>2025-01-01 00:44:04</td>\n",
       "      <td>2025-01-01 00:46:01</td>\n",
       "      <td>1.0</td>\n",
       "      <td>0.60</td>\n",
       "      <td>1.0</td>\n",
       "      <td>N</td>\n",
       "      <td>141</td>\n",
       "      <td>141</td>\n",
       "      <td>1</td>\n",
       "      <td>5.1</td>\n",
       "      <td>3.5</td>\n",
       "      <td>0.5</td>\n",
       "      <td>2.00</td>\n",
       "      <td>0.0</td>\n",
       "      <td>1.0</td>\n",
       "      <td>12.10</td>\n",
       "      <td>2.5</td>\n",
       "      <td>0.0</td>\n",
       "      <td>0.0</td>\n",
       "    </tr>\n",
       "    <tr>\n",
       "      <th>3</th>\n",
       "      <td>2</td>\n",
       "      <td>2025-01-01 00:14:27</td>\n",
       "      <td>2025-01-01 00:20:01</td>\n",
       "      <td>3.0</td>\n",
       "      <td>0.52</td>\n",
       "      <td>1.0</td>\n",
       "      <td>N</td>\n",
       "      <td>244</td>\n",
       "      <td>244</td>\n",
       "      <td>2</td>\n",
       "      <td>7.2</td>\n",
       "      <td>1.0</td>\n",
       "      <td>0.5</td>\n",
       "      <td>0.00</td>\n",
       "      <td>0.0</td>\n",
       "      <td>1.0</td>\n",
       "      <td>9.70</td>\n",
       "      <td>0.0</td>\n",
       "      <td>0.0</td>\n",
       "      <td>0.0</td>\n",
       "    </tr>\n",
       "    <tr>\n",
       "      <th>4</th>\n",
       "      <td>2</td>\n",
       "      <td>2025-01-01 00:21:34</td>\n",
       "      <td>2025-01-01 00:25:06</td>\n",
       "      <td>3.0</td>\n",
       "      <td>0.66</td>\n",
       "      <td>1.0</td>\n",
       "      <td>N</td>\n",
       "      <td>244</td>\n",
       "      <td>116</td>\n",
       "      <td>2</td>\n",
       "      <td>5.8</td>\n",
       "      <td>1.0</td>\n",
       "      <td>0.5</td>\n",
       "      <td>0.00</td>\n",
       "      <td>0.0</td>\n",
       "      <td>1.0</td>\n",
       "      <td>8.30</td>\n",
       "      <td>0.0</td>\n",
       "      <td>0.0</td>\n",
       "      <td>0.0</td>\n",
       "    </tr>\n",
       "  </tbody>\n",
       "</table>\n",
       "</div>"
      ],
      "text/plain": [
       "   VendorID tpep_pickup_datetime tpep_dropoff_datetime  passenger_count  \\\n",
       "0         1  2025-01-01 00:18:38   2025-01-01 00:26:59              1.0   \n",
       "1         1  2025-01-01 00:32:40   2025-01-01 00:35:13              1.0   \n",
       "2         1  2025-01-01 00:44:04   2025-01-01 00:46:01              1.0   \n",
       "3         2  2025-01-01 00:14:27   2025-01-01 00:20:01              3.0   \n",
       "4         2  2025-01-01 00:21:34   2025-01-01 00:25:06              3.0   \n",
       "\n",
       "   trip_distance  RatecodeID store_and_fwd_flag  PULocationID  DOLocationID  \\\n",
       "0           1.60         1.0                  N           229           237   \n",
       "1           0.50         1.0                  N           236           237   \n",
       "2           0.60         1.0                  N           141           141   \n",
       "3           0.52         1.0                  N           244           244   \n",
       "4           0.66         1.0                  N           244           116   \n",
       "\n",
       "   payment_type  fare_amount  extra  mta_tax  tip_amount  tolls_amount  \\\n",
       "0             1         10.0    3.5      0.5        3.00           0.0   \n",
       "1             1          5.1    3.5      0.5        2.02           0.0   \n",
       "2             1          5.1    3.5      0.5        2.00           0.0   \n",
       "3             2          7.2    1.0      0.5        0.00           0.0   \n",
       "4             2          5.8    1.0      0.5        0.00           0.0   \n",
       "\n",
       "   improvement_surcharge  total_amount  congestion_surcharge  Airport_fee  \\\n",
       "0                    1.0         18.00                   2.5          0.0   \n",
       "1                    1.0         12.12                   2.5          0.0   \n",
       "2                    1.0         12.10                   2.5          0.0   \n",
       "3                    1.0          9.70                   0.0          0.0   \n",
       "4                    1.0          8.30                   0.0          0.0   \n",
       "\n",
       "   cbd_congestion_fee  \n",
       "0                 0.0  \n",
       "1                 0.0  \n",
       "2                 0.0  \n",
       "3                 0.0  \n",
       "4                 0.0  "
      ]
     },
     "execution_count": 3,
     "metadata": {},
     "output_type": "execute_result"
    }
   ],
   "source": [
    "df.head()"
   ]
  },
  {
   "cell_type": "code",
   "execution_count": null,
   "id": "08baeff3",
   "metadata": {},
   "outputs": [],
   "source": [
    "df.info()"
   ]
  },
  {
   "cell_type": "code",
   "execution_count": null,
   "id": "de00b838",
   "metadata": {},
   "outputs": [],
   "source": [
    "df.describe()"
   ]
  },
  {
   "cell_type": "code",
   "execution_count": null,
   "id": "d023c82f",
   "metadata": {},
   "outputs": [],
   "source": [
    "df.trip_distance.max()"
   ]
  },
  {
   "cell_type": "markdown",
   "id": "ed312fa7",
   "metadata": {},
   "source": [
    "# Ride Duration Calculation"
   ]
  },
  {
   "cell_type": "code",
   "execution_count": 4,
   "id": "d12c56ac",
   "metadata": {},
   "outputs": [],
   "source": [
    "df['duration'] = df['tpep_dropoff_datetime'] - df['tpep_pickup_datetime']"
   ]
  },
  {
   "cell_type": "code",
   "execution_count": null,
   "id": "5ce5bac9",
   "metadata": {},
   "outputs": [],
   "source": [
    "df.head()"
   ]
  },
  {
   "cell_type": "code",
   "execution_count": 5,
   "id": "cc397592",
   "metadata": {},
   "outputs": [],
   "source": [
    "df['duration'] = df.duration.dt.total_seconds() / 60"
   ]
  },
  {
   "cell_type": "code",
   "execution_count": null,
   "id": "635e0160",
   "metadata": {},
   "outputs": [],
   "source": [
    "df.head()"
   ]
  },
  {
   "cell_type": "code",
   "execution_count": null,
   "id": "5f1a8690",
   "metadata": {},
   "outputs": [],
   "source": [
    "df.duration.mean()"
   ]
  },
  {
   "cell_type": "code",
   "execution_count": null,
   "id": "1369522d",
   "metadata": {},
   "outputs": [],
   "source": [
    "df.duration.std()"
   ]
  },
  {
   "cell_type": "code",
   "execution_count": null,
   "id": "c80d9c0f",
   "metadata": {},
   "outputs": [],
   "source": [
    "df.duration.max()"
   ]
  },
  {
   "cell_type": "code",
   "execution_count": null,
   "id": "c9e89eb4",
   "metadata": {},
   "outputs": [],
   "source": [
    "df.duration.min()"
   ]
  },
  {
   "cell_type": "code",
   "execution_count": null,
   "id": "31a550b1",
   "metadata": {},
   "outputs": [],
   "source": [
    "df.describe()"
   ]
  },
  {
   "cell_type": "markdown",
   "id": "4b481f1e",
   "metadata": {},
   "source": [
    "## Removing Outliers "
   ]
  },
  {
   "cell_type": "code",
   "execution_count": 8,
   "id": "c2a1d648",
   "metadata": {},
   "outputs": [
    {
     "data": {
      "text/plain": [
       "100.0"
      ]
     },
     "execution_count": 8,
     "metadata": {},
     "output_type": "execute_result"
    }
   ],
   "source": [
    "len(df[(df.duration >= 1) & (df.duration <= 60)]) / len(df) * 100"
   ]
  },
  {
   "cell_type": "code",
   "execution_count": 7,
   "id": "85206e42",
   "metadata": {},
   "outputs": [],
   "source": [
    "df = df[(df.duration >= 1) & (df.duration <= 60)].copy()"
   ]
  },
  {
   "cell_type": "code",
   "execution_count": null,
   "id": "74b28e65",
   "metadata": {},
   "outputs": [],
   "source": [
    "df.duration.std()"
   ]
  },
  {
   "cell_type": "code",
   "execution_count": 9,
   "id": "0cd8dc2a",
   "metadata": {},
   "outputs": [
    {
     "data": {
      "image/png": "[encoded data removed]",
      "text/plain": [
       "<Figure size 432x288 with 1 Axes>"
      ]
     },
     "metadata": {
      "needs_background": "light"
     },
     "output_type": "display_data"
    }
   ],
   "source": [
    "plt.hist(df.duration)\n",
    "plt.show()"
   ]
  },
  {
   "cell_type": "code",
   "execution_count": null,
   "id": "8d384435",
   "metadata": {},
   "outputs": [],
   "source": [
    "df.duration.max()"
   ]
  },
  {
   "cell_type": "markdown",
   "id": "2003e1f2",
   "metadata": {},
   "source": [
    "# One-hot Encoding"
   ]
  },
  {
   "cell_type": "code",
   "execution_count": 10,
   "id": "6a319605",
   "metadata": {},
   "outputs": [],
   "source": [
    "categorical = ['PULocationID', 'DOLocationID']"
   ]
  },
  {
   "cell_type": "code",
   "execution_count": 11,
   "id": "af65504c",
   "metadata": {},
   "outputs": [],
   "source": [
    "df[categorical] = df[categorical].astype(str)"
   ]
  },
  {
   "cell_type": "code",
   "execution_count": null,
   "id": "444c3c96",
   "metadata": {},
   "outputs": [],
   "source": [
    "df.info()"
   ]
  },
  {
   "cell_type": "code",
   "execution_count": 12,
   "id": "1b25cc75",
   "metadata": {},
   "outputs": [],
   "source": [
    "train_dicts = df[categorical].to_dict(orient='records')"
   ]
  },
  {
   "cell_type": "code",
   "execution_count": null,
   "id": "bfb9e4b4",
   "metadata": {
    "scrolled": true
   },
   "outputs": [],
   "source": [
    "train_dicts"
   ]
  },
  {
   "cell_type": "code",
   "execution_count": 13,
   "id": "ee8a9de0",
   "metadata": {},
   "outputs": [],
   "source": [
    "dv = DictVectorizer()\n",
    "X_train = dv.fit_transform(train_dicts)"
   ]
  },
  {
   "cell_type": "code",
   "execution_count": null,
   "id": "303582b7",
   "metadata": {},
   "outputs": [],
   "source": [
    "X_train"
   ]
  },
  {
   "cell_type": "code",
   "execution_count": 14,
   "id": "d6cb61d0",
   "metadata": {},
   "outputs": [
    {
     "name": "stdout",
     "output_type": "stream",
     "text": [
      "Feature matrix size: (3403248, 519)\n"
     ]
    }
   ],
   "source": [
    "print(f'Feature matrix size: {X_train.shape}')"
   ]
  },
  {
   "cell_type": "markdown",
   "id": "7b11cb43",
   "metadata": {},
   "source": [
    "# Training a Model"
   ]
  },
  {
   "cell_type": "code",
   "execution_count": 15,
   "id": "66eace66",
   "metadata": {},
   "outputs": [],
   "source": [
    "target = 'duration'\n",
    "y_train = df[target].values"
   ]
  },
  {
   "cell_type": "code",
   "execution_count": 16,
   "id": "8a087d3c",
   "metadata": {},
   "outputs": [
    {
     "name": "stdout",
     "output_type": "stream",
     "text": [
      "Train RMSE: 7.707821029851613\n"
     ]
    }
   ],
   "source": [
    "lr = LinearRegression()\n",
    "lr.fit(X_train, y_train)\n",
    "\n",
    "y_pred = lr.predict(X_train)\n",
    "\n",
    "print(f'Train RMSE: {mean_squared_error(y_train, y_pred, squared=False)}')"
   ]
  },
  {
   "cell_type": "code",
   "execution_count": 18,
   "id": "24ffe1d1",
   "metadata": {},
   "outputs": [
    {
     "data": {
      "text/plain": [
       "array([ 1.86355461e+01, -1.98032489e+01, -3.13941072e+00, -6.31270463e+00,\n",
       "       -2.81164011e+00, -6.57896141e+00,  6.43828221e+00, -5.06500561e+00,\n",
       "        2.59193379e+00,  2.47384985e+01,  4.02794991e+00,  1.11823096e+00,\n",
       "        1.36550671e+00, -3.98667248e+00, -3.59821596e+00,  1.13055196e+01,\n",
       "        2.14101688e+00,  1.46584625e-01,  1.47691783e+01,  1.48938456e+00,\n",
       "        1.82445843e+00,  4.19272676e+00, -4.90081981e+00, -7.58513199e+00,\n",
       "        1.56472971e+00, -1.37504382e+01, -2.79697656e+00,  5.98595221e-01,\n",
       "        4.67117454e+00,  6.04115035e+00, -2.03932513e+00,  3.58565054e-01,\n",
       "       -1.10008305e+01, -6.72242153e+00,  1.61839379e+01,  5.65946618e+00,\n",
       "       -7.70441416e+00, -8.74807324e+00,  8.09525276e+00, -4.95259101e+00,\n",
       "        8.31546175e+00, -1.39370350e+01,  6.77608652e+00, -3.11105368e+00,\n",
       "       -4.85136441e+00, -4.27104528e+00, -3.60768830e+00, -1.84797566e+00,\n",
       "       -2.39964156e+00, -1.86761948e+00,  3.09845170e+00, -1.83377765e+00,\n",
       "        1.43225906e+00, -5.09632305e+00, -1.53478799e+00, -3.27410367e+00,\n",
       "       -3.09515056e-01,  7.24018293e+00, -1.79677384e+01, -6.24768325e+00,\n",
       "        1.00557579e+01, -8.01457666e+00, -3.45617930e+00,  1.05574647e+00,\n",
       "       -4.08713547e+00, -1.25894752e+00, -3.29836191e+00, -4.36508164e+00,\n",
       "       -3.62031406e+00, -3.88168151e+00,  5.38441356e+00, -1.94818713e+00,\n",
       "        2.56163774e+00,  1.86847192e-01,  2.17962575e+00,  4.63669312e+00,\n",
       "       -4.81301815e+00, -2.75697324e+00,  1.45577937e+01, -3.47330387e+00,\n",
       "        4.13814750e+00, -5.81927992e+00,  2.05318983e+01, -3.79168707e-01,\n",
       "        4.14493217e+00, -6.59017818e-01,  5.91028212e+00, -1.30631153e+01,\n",
       "        8.29746948e+00,  5.99002060e+00,  2.27251819e+00,  1.72533421e+00,\n",
       "        3.97124548e+00, -3.55381374e+00,  1.28643856e+01,  4.64741112e+00,\n",
       "        6.41502497e+00, -9.48743303e+00,  9.03920613e+00, -7.10950622e+00,\n",
       "       -5.03803063e+00, -3.67535892e+00, -1.55791188e+00,  6.85273842e+00,\n",
       "       -4.30536680e+00, -7.42618910e+00,  5.63676082e-01, -1.09759912e+01,\n",
       "        5.29841513e+00,  8.11620155e+00, -8.84557645e-01,  3.05576423e+00,\n",
       "       -1.43562044e+01,  2.42043237e+01, -1.04509598e+01,  1.66588565e+01,\n",
       "       -1.26574692e+01, -9.53258728e-01, -2.90665842e-01,  4.49727690e+00,\n",
       "       -5.06054435e-01, -2.30310533e+00,  2.14939130e-01,  8.79614761e-01,\n",
       "        8.11966588e+00, -1.47904378e+01, -1.54200968e+01,  4.88354371e+00,\n",
       "       -1.46857216e+01, -2.09010412e+01,  4.46985472e+00,  6.40000378e+00,\n",
       "        2.19468174e+00, -2.89832912e+00, -1.74792150e+00, -3.64059227e+00,\n",
       "        3.97662917e+00, -1.46854163e+00,  6.28783115e+00,  6.15209532e+00,\n",
       "       -5.12483668e+00,  1.10248265e+01, -2.17939872e+00, -1.59444506e+00,\n",
       "       -1.69816647e+00, -4.69783264e+00, -4.75717378e+00,  3.90077940e+00,\n",
       "       -4.70998662e+00, -5.25593387e+00, -3.97137580e+00, -4.22757431e+00,\n",
       "       -2.79885034e+00,  5.03233356e+00,  5.26476225e+00,  2.88623938e+00,\n",
       "        5.11178953e+00,  3.30606052e+00,  1.35384965e+01, -3.76217039e+00,\n",
       "        2.17056742e+00,  9.86410568e-01, -4.41212900e+00,  4.76539907e+00,\n",
       "        1.89552162e+00,  1.37601665e+01, -7.02099566e+00, -1.28851447e+01,\n",
       "        4.62871144e+00,  3.11821369e+00,  1.89113920e+00,  7.28018742e+00,\n",
       "       -5.95804279e+00,  5.64288590e+00,  7.33416077e+00, -4.34729782e+00,\n",
       "        9.25339650e-01, -3.45278378e+00, -4.32604784e+00, -3.75698836e+00,\n",
       "        2.32317301e+00,  2.56110166e+00, -1.25971919e+01,  1.90915525e+00,\n",
       "        1.44189531e+00, -9.10922963e+00,  6.39933631e+00,  3.51281246e+00,\n",
       "        3.85316132e+00,  3.81115323e+00, -2.97072061e-01,  2.13617987e+00,\n",
       "        3.30073534e+00, -1.22605953e+01, -6.13031095e+00, -3.01075569e+00,\n",
       "        5.17345860e+00, -8.48359472e-01,  1.11240001e+00, -3.77293164e+00,\n",
       "        2.55541711e+01, -9.84857913e-01,  9.64587440e+00,  3.33288543e+00,\n",
       "       -3.46479461e+00,  4.92642676e+00,  1.05604952e+01, -4.05958920e+00,\n",
       "        5.68128694e+00,  5.22207112e+00, -4.41545662e+00,  4.34404138e+00,\n",
       "        6.50040072e+00, -8.50262282e+00, -8.31137956e+00, -1.58794463e+00,\n",
       "        4.75284809e+00,  6.24822792e-01,  1.61881179e+00,  3.31678862e+00,\n",
       "        5.10575022e+00, -5.26595790e+00, -8.27412190e+00,  2.94401203e+00,\n",
       "        2.86996392e+00,  5.68786810e+00, -3.85522832e+00,  4.35337395e+00,\n",
       "       -1.26346121e+00, -7.74360536e+00,  1.36025838e+00, -1.93485558e+00,\n",
       "       -3.75314447e+00, -2.40819385e+00, -3.25978206e+00, -4.92936120e+00,\n",
       "       -3.64193204e+00,  3.43435347e+00, -3.78903937e+00, -1.86240066e+00,\n",
       "        1.03394671e+00,  4.20347026e+00, -6.36509669e+00, -3.30065123e+00,\n",
       "        2.69795213e+01,  5.37564634e+00, -3.69134570e+00,  1.24413895e-01,\n",
       "        7.11163556e-01,  5.48747814e+00, -5.71067784e+00, -5.09264171e+00,\n",
       "       -7.05751944e-01, -5.12145809e+00, -1.85392494e+01,  4.62287125e+00,\n",
       "       -4.05089155e+00, -5.87400275e+00,  3.81729576e+00, -4.04724598e+00,\n",
       "       -2.25934819e+01,  1.01643310e+01, -6.34557381e+00,  5.98579662e+00,\n",
       "        1.20259407e+00, -1.75401256e+00, -7.42210091e+00,  1.66317192e+00,\n",
       "        6.01400984e+00, -2.19112037e+00,  5.57180715e+00, -3.35188914e+00,\n",
       "       -7.25904926e+00, -6.99417306e+00,  5.96923765e+00, -3.91168418e+00,\n",
       "        1.35390273e+01,  3.00900624e+00,  2.99163345e+00, -2.03901890e+00,\n",
       "       -5.79929185e+00,  6.53699423e+00,  7.95531408e+00,  1.64884552e+00,\n",
       "        5.40831112e+00, -6.56402156e+00,  3.10609800e-01, -2.73087664e+00,\n",
       "       -3.63974922e-01, -1.74613162e+00, -4.19910229e+00,  4.66956169e+00,\n",
       "        6.92354586e+00,  1.47702589e+01, -3.74794772e-01, -1.65349442e+00,\n",
       "        5.25790296e+00,  4.96214562e+00, -7.15266478e+00,  5.52604071e+00,\n",
       "        9.09802393e+00, -2.00185089e+00, -6.09495326e+00, -7.95239067e+00,\n",
       "       -7.38384795e+00, -7.53722274e+00, -5.94746925e+00, -4.53301048e+00,\n",
       "       -3.84538365e+00,  3.42844334e+00, -6.44491942e+00, -7.89351966e-01,\n",
       "        5.92011822e+00, -4.02534002e+00, -7.37200247e+00, -5.45988263e+00,\n",
       "        1.65964916e+00, -8.67621075e+00,  1.46148179e+00,  2.02325289e+01,\n",
       "       -2.69786526e+00, -6.02073299e+00,  4.09130417e-01,  1.62921207e+00,\n",
       "        4.87018875e-01, -5.84662726e+00, -6.27372858e+00, -6.10991764e+00,\n",
       "       -6.85410946e+00,  3.09609386e+00, -5.77421996e+00,  4.27167343e+00,\n",
       "       -1.44028301e+00,  1.61043737e+00,  1.01785297e+00, -6.58133134e+00,\n",
       "        3.46521397e+00, -5.67869309e+00,  2.22057739e+00,  1.14178981e+00,\n",
       "        5.81640121e+00,  9.53780935e-01,  3.61742257e+00, -3.77462645e+00,\n",
       "        4.02302049e-01,  2.54691523e+00,  3.88020762e+00, -2.38532384e+00,\n",
       "        4.78321737e+00,  5.53013404e+00, -5.90265454e+00,  1.19977106e+00,\n",
       "       -5.00772167e+00, -1.09476067e+01,  2.43144981e+00, -1.23449329e+00,\n",
       "        4.84827427e+00, -3.34721069e+00,  7.59474533e+00,  2.30740988e+00,\n",
       "       -4.32063985e+00, -1.34354143e-01,  2.71926121e+00,  1.71056529e+00,\n",
       "        2.56057151e+00,  1.93114664e+00,  1.46129013e+01,  2.01527636e+00,\n",
       "        1.88874272e+00,  4.32179914e+00,  7.18418014e+00,  4.30516990e+00,\n",
       "        9.20344464e+00,  7.94086336e+00,  1.12788783e+01,  1.05091709e+01,\n",
       "       -2.88858372e+00,  1.04485955e+00, -4.63617547e+00, -1.36799333e+00,\n",
       "        2.16237014e-01, -5.98747766e+00,  2.13959782e-01,  4.52024419e+00,\n",
       "       -6.56720796e+00,  9.09983703e+00,  3.71976312e-01, -1.58770491e+00,\n",
       "        1.08594903e+01,  9.00595690e+00, -5.98912775e-01,  1.47602697e-01,\n",
       "        2.82877011e+00,  8.34624791e+00, -1.85562491e+00, -6.15782921e+00,\n",
       "        4.46300342e+00, -2.23735424e+00,  4.99206116e-01, -3.60047293e-01,\n",
       "       -6.95109873e+00, -3.66962782e+00, -5.73847198e+00, -5.75604790e+00,\n",
       "       -4.18726646e+00, -6.84718551e+00, -7.16623154e+00,  1.53716017e+00,\n",
       "       -7.48042293e+00, -7.90220213e+00, -7.69390105e+00, -7.61942300e+00,\n",
       "       -6.49420338e+00,  3.90232981e+00,  5.71327682e+00,  1.75792295e+00,\n",
       "       -2.37237546e+00, -3.25608937e+00, -4.21256781e+00, -5.99917380e+00,\n",
       "       -8.30497732e-01,  3.88379026e+00, -7.15348859e+00, -1.84816611e+00,\n",
       "        1.93147423e-01,  4.49313425e+00,  1.87771311e+00,  7.03862454e+00,\n",
       "        4.88314265e+00, -3.16851660e+00, -2.77191592e+00,  9.48808692e-03,\n",
       "        5.31985692e+00,  3.34559423e+00, -1.48094879e+00, -3.07925532e+00,\n",
       "       -3.28197845e+00, -7.28107276e+00, -8.16030705e+00, -4.74984611e+00,\n",
       "       -8.43786048e+00,  1.88707284e+01,  3.24745790e+00,  1.26894259e+00,\n",
       "        1.34004785e+00,  7.63618076e+00, -5.74595687e+00,  6.09906660e+00,\n",
       "       -1.25902599e+00, -8.02718433e-01,  4.89930465e+00, -1.80304131e-01,\n",
       "        1.47753493e+00,  1.18377349e+01,  2.57040705e+00, -6.02279305e+00,\n",
       "       -2.95194938e+00, -6.09660385e+00, -3.71606845e+00, -5.84279420e+00,\n",
       "       -3.97638351e+00,  9.43075964e+00,  5.75838713e+00, -7.49842283e+00,\n",
       "        4.31243063e-01,  7.31020566e+00, -7.24816043e+00,  5.56770373e+00,\n",
       "       -2.34563294e+00,  3.99500253e+00, -1.73700849e+00,  4.40793540e+00,\n",
       "        4.02025087e+00,  1.19111443e+00,  2.15687112e+00,  6.87403008e-01,\n",
       "       -1.31397324e+01,  2.13422022e+00,  2.39290793e+00,  1.14174618e+00,\n",
       "        5.32757831e+00,  2.92993103e+00, -2.34617842e+00, -1.98769273e+00,\n",
       "       -2.36777822e+00, -5.32118544e+00,  2.80495458e+00, -2.09402920e+00,\n",
       "        5.39955646e+00,  2.85821015e+00,  2.91316670e+00,  2.15677804e+00,\n",
       "       -5.61823844e+00, -6.31920867e+00,  4.79558715e+00,  5.04230746e+00,\n",
       "        3.85796506e+00, -7.31258482e+00, -1.84146312e+00, -1.56136765e+00,\n",
       "        3.88649534e+00,  4.91166129e-01, -2.46213447e+00,  2.35543285e+00,\n",
       "        1.27599683e+01, -3.86777222e+00, -2.91329246e+00,  1.93701328e+00,\n",
       "        3.41330256e+00, -7.65488061e+00,  2.52699886e+00,  2.82172674e+00,\n",
       "       -2.03349494e+00,  5.46437218e+00,  2.54522539e+00, -1.90019420e+00,\n",
       "       -2.26749909e+00,  4.91086245e+00, -2.48576854e+01])"
      ]
     },
     "execution_count": 18,
     "metadata": {},
     "output_type": "execute_result"
    }
   ],
   "source": [
    "lr.coef_"
   ]
  },
  {
   "cell_type": "code",
   "execution_count": 17,
   "id": "58364277",
   "metadata": {},
   "outputs": [
    {
     "data": {
      "image/png": "[encoded data removed]",
      "text/plain": [
       "<Figure size 432x288 with 1 Axes>"
      ]
     },
     "metadata": {
      "needs_background": "light"
     },
     "output_type": "display_data"
    }
   ],
   "source": [
    "sns.histplot(y_pred, label='prediction', color='green')\n",
    "sns.histplot(y_train, label='actual')\n",
    "\n",
    "plt.legend();"
   ]
  },
  {
   "cell_type": "markdown",
   "id": "c1ec95a3",
   "metadata": {},
   "source": [
    "# Evaluating the model"
   ]
  },
  {
   "cell_type": "code",
   "execution_count": 19,
   "id": "cf04be1a",
   "metadata": {},
   "outputs": [],
   "source": [
    "categorical = ['PULocationID', 'DOLocationID']\n",
    "\n",
    "def read_data(filename):\n",
    "    df = pd.read_parquet(filename)\n",
    "\n",
    "    df['duration'] = df.tpep_dropoff_datetime - df.tpep_pickup_datetime\n",
    "    df.duration = df.duration.dt.total_seconds() / 60\n",
    "\n",
    "    df = df[(df.duration >= 1) & (df.duration <= 60)].copy()\n",
    "\n",
    "    df[categorical] = df[categorical].astype('str')\n",
    "    \n",
    "    return df"
   ]
  },
  {
   "cell_type": "code",
   "execution_count": null,
   "id": "d0aff844",
   "metadata": {},
   "outputs": [],
   "source": [
    "df_val = read_data('yellow_tripdata_2025-07.parquet')"
   ]
  },
  {
   "cell_type": "code",
   "execution_count": null,
   "id": "0c437004",
   "metadata": {},
   "outputs": [],
   "source": [
    "val_dicts = df_val[categorical].to_dict(orient='records')"
   ]
  },
  {
   "cell_type": "code",
   "execution_count": null,
   "id": "82f5f126",
   "metadata": {},
   "outputs": [],
   "source": [
    "X_val = dv.fit_transform(val_dicts) \n",
    "y_val = df_val.duration.values"
   ]
  },
  {
   "cell_type": "code",
   "execution_count": null,
   "id": "e4c25dd3",
   "metadata": {},
   "outputs": [],
   "source": [
    "y_pred = lr.predict(X_val)"
   ]
  },
  {
   "cell_type": "code",
   "execution_count": null,
   "id": "ddacaac1",
   "metadata": {},
   "outputs": [],
   "source": [
    "print(f'Val RMSE: {mean_squared_error(y_val, y_pred, squared=False)}')"
   ]
  }
 ],
 "metadata": {
  "kernelspec": {
   "display_name": "Python 3 (ipykernel)",
   "language": "python",
   "name": "python3"
  },
  "language_info": {
   "codemirror_mode": {
    "name": "ipython",
    "version": 3
   },
   "file_extension": ".py",
   "mimetype": "text/x-python",
   "name": "python",
   "nbconvert_exporter": "python",
   "pygments_lexer": "ipython3",
   "version": "3.9.12"
  }
 },
 "nbformat": 4,
 "nbformat_minor": 5
}
